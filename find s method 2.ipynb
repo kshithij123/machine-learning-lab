{
 "cells": [
  {
   "cell_type": "code",
   "execution_count": 29,
   "metadata": {
    "scrolled": false
   },
   "outputs": [
    {
     "name": "stdout",
     "output_type": "stream",
     "text": [
      "     sky air temp humidity    wind water forecast enjoy sport\n",
      "0  sunny     warm   normal  strong  warm     same         yes\n",
      "1  sunny     warm     high  strong  warm     same         yes\n",
      "2  rainy     cold     high  strong  warm   change          no\n",
      "3  sunny     warm     high  strong  warm   change         yes\n"
     ]
    }
   ],
   "source": [
    "import pandas as pd\n",
    "data=pd.read_csv('C:\\\\Users\\\\KSHITHIJ S BHANDARY\\\\OneDrive\\\\Documents\\\\book1.csv')\n",
    "columnLength=data.shape[1]\n",
    "print(data)"
   ]
  },
  {
   "cell_type": "code",
   "execution_count": 20,
   "metadata": {},
   "outputs": [],
   "source": [
    "h = ['0']*(columnLength-1)\n",
    "hp=[]                               \n",
    "hn=[]"
   ]
  },
  {
   "cell_type": "code",
   "execution_count": 22,
   "metadata": {},
   "outputs": [],
   "source": [
    "for trainingExample in data.values: \n",
    "    if trainingExample[-1]!='no':   \n",
    "        hp.append(list(trainingExample))\n",
    "    else:\n",
    "        hn.append(list(trainingExample))"
   ]
  },
  {
   "cell_type": "code",
   "execution_count": 23,
   "metadata": {},
   "outputs": [],
   "source": [
    " for i in range (len(hp)):\n",
    "    for j in range(columnLength-1):  \n",
    "        if (h[j]=='0'):\n",
    "            h[j]=hp[i][j]\n",
    "        if (h[j]!=hp[i][j]):        \n",
    "            h[j]='?'                \n",
    "        else:                       \n",
    "            h[j]=hp[i][j]"
   ]
  },
  {
   "cell_type": "code",
   "execution_count": 25,
   "metadata": {},
   "outputs": [
    {
     "name": "stdout",
     "output_type": "stream",
     "text": [
      "\n",
      "The positive Hypotheses are\n",
      "[['warm', 'normal', 'strong', 'warm', 'same', 'yes'], ['warm', 'high', 'strong', 'warm', 'same', 'yes'], ['warm', 'high', 'strong', 'warm', 'change', 'yes'], ['warm', 'normal', 'strong', 'warm', 'same', 'yes'], ['warm', 'high', 'strong', 'warm', 'same', 'yes'], ['warm', 'high', 'strong', 'warm', 'change', 'yes']]\n",
      "\n",
      "The negative Hypotheses are\n",
      "[['cold', 'high', 'strong', 'warm', 'change', 'no'], ['cold', 'high', 'strong', 'warm', 'change', 'no']]\n",
      "\n",
      "The Maximally Specific Hypothesis h is\n",
      "['warm', '?', 'strong', 'warm', '?']\n"
     ]
    }
   ],
   "source": [
    "print('\\nThe positive Hypotheses are')\n",
    "print(hp)\n",
    "print('\\nThe negative Hypotheses are')\n",
    "print(hn)\n",
    "print('\\nThe Maximally Specific Hypothesis h is')\n",
    "print(h)"
   ]
  }
 ],
 "metadata": {
  "kernelspec": {
   "display_name": "Python 3",
   "language": "python",
   "name": "python3"
  },
  "language_info": {
   "codemirror_mode": {
    "name": "ipython",
    "version": 3
   },
   "file_extension": ".py",
   "mimetype": "text/x-python",
   "name": "python",
   "nbconvert_exporter": "python",
   "pygments_lexer": "ipython3",
   "version": "3.7.3"
  }
 },
 "nbformat": 4,
 "nbformat_minor": 2
}
